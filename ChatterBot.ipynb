{
 "cells": [
  {
   "cell_type": "code",
   "execution_count": 1,
   "id": "c2c33576",
   "metadata": {},
   "outputs": [],
   "source": [
    "from chatterbot import ChatBot"
   ]
  },
  {
   "cell_type": "code",
   "execution_count": 2,
   "id": "dd439182",
   "metadata": {},
   "outputs": [],
   "source": [
    "bot = ChatBot(\n",
    "    'Clothing Selector Helper',\n",
    "    read_only=True\n",
    ")"
   ]
  },
  {
   "cell_type": "code",
   "execution_count": 3,
   "id": "373c33aa",
   "metadata": {},
   "outputs": [
    {
     "name": "stdout",
     "output_type": "stream",
     "text": [
      "List Trainer: [####################] 100%\n",
      "List Trainer: [####################] 100%\n",
      "List Trainer: [####################] 100%\n",
      "List Trainer: [####################] 100%\n",
      "List Trainer: [####################] 100%\n",
      "List Trainer: [####################] 100%\n",
      "List Trainer: [####################] 100%\n",
      "List Trainer: [####################] 100%\n",
      "List Trainer: [####################] 100%\n",
      "List Trainer: [####################] 100%\n",
      "List Trainer: [####################] 100%\n"
     ]
    }
   ],
   "source": [
    "from chatterbot.trainers import ListTrainer\n",
    "\n",
    "trainer = ListTrainer(bot)\n",
    "\n",
    "trainer.train([\n",
    "    'HELP',\n",
    "    'This is where I would put a help URL if I had one'\n",
    "])\n",
    "\n",
    "# Conversation 1\n",
    "trainer.train({\n",
    "    'Hello',\n",
    "    'What type of clothing do you like to wear',\n",
    "    'I like to wear jeans.',\n",
    "    'I would recommend brands like American Eagle or Old Navy for a pair of jeans, do you have a favorite brand?',\n",
    "    'My favorite brand is American Eagle',\n",
    "    'I would recommend the straight leg, high rise jeans from American Eagle'\n",
    "})\n",
    "\n",
    "# Conversation 2\n",
    "trainer.train({\n",
    "    'Hello',\n",
    "    'What type of clothing do you like to wear',\n",
    "    'I like to wear athletic clothes',\n",
    "    'I would recommend brands like Nike or Gymshark for athletic clothes, which of these do you prefer?',\n",
    "    'I prefer Nike',\n",
    "    'I would recommend a pair of Nike leggings in black for athletic wear.'\n",
    "})\n",
    "\n",
    "# Conversation 3\n",
    "trainer.train({\n",
    "    'Hello',\n",
    "    'What type of clothing do you like to wear',\n",
    "    'I mainly thrift my clothes', \n",
    "    'I would recommend clothes from Good Will or Platos Closet. Do you have a favorite place to thrift your clothing?',\n",
    "    'I generally get clothes from Good Will', \n",
    "    'I would recommend to look at smaller thrift shops in bigger cities, they may be bale to give you a different selection than what you currently have.'\n",
    "})\n",
    "\n",
    "# Conversation 4\n",
    "trainer.train({\n",
    "    'Hello',\n",
    "    'What type of clothing do you like to wear',\n",
    "    'I generally like to wear tshirts', \n",
    "    'Depending on the type of tshirts you like you wear, I would recommend getting tshirts from Target or Amazon. Do you have a favorite place to buy your tshirts?',\n",
    "    'I generally get my tshirts from Target', \n",
    "    'I would recommend to look at A New Day tshirts from Target, the brand is decent quality but defintely affordable!'\n",
    "})\n",
    "\n",
    "# Conversation 5\n",
    "trainer.train({\n",
    "    'Hello',\n",
    "    'What type of clothing do you like to wear',\n",
    "    'I mainly wear clothing for work', \n",
    "    'I would recommend to look at brands like Nordstorm or Macys for work clothes, is there any specific store that you generally buy your clothes from?',\n",
    "    'I generally get clothes from Macys', \n",
    "    'I would recommend to get a Calvin Klein dress from Macys that you are able to wear to work or out on a date night!'\n",
    "})\n",
    "\n",
    "# Conversation 6\n",
    "trainer.train({\n",
    "    'Hello',\n",
    "    'What type of clothing do you like to wear',\n",
    "    'I mainly wear clothes that are meant for hiking', \n",
    "    'I would recommend to get clothing from a company like Duluth or Back country. Do you have a favorite place to buy your hiking clothes?',\n",
    "    'I generally get clothes from Duluth Trading Company',\n",
    "    'From Duluth, I would recommened to look at some hiking boots, like the Jillpine Waterproof Hiking Boots. '\n",
    "})\n",
    "\n",
    "# Conversation 7\n",
    "trainer.train({\n",
    "    'Hello',\n",
    "    'What type of clothing do you like to wear',\n",
    "    'I like to wear clothes that keep me warm', \n",
    "    'For clothing to keep you warm, I would recommend looking at brands like Northface or Columbia. Is there a brand that you partically like to shop?',\n",
    "    'I usually buy my warm weather clothes from North Face.', \n",
    "    'I would recommend to look at the winter jackets that Northface sells, they would likely give you the warmest option.'\n",
    "})\n",
    "\n",
    "# Conversation 8\n",
    "trainer.train({\n",
    "    'Hello',\n",
    "    'What type of clothing do you like to wear',\n",
    "    'I like to find clothing that I can wear to church.', \n",
    "    'I would recommend to look at companies like Kohls or Macy. Is there a place that you generally buy your church clothes from?',\n",
    "    'I usually get my clothes from Kohls', \n",
    "    'I would recommend to look in their business professional section for suits and dresses that would be appropriate for most church goers!'\n",
    "})\n",
    "\n",
    "# Conversation 9\n",
    "trainer.train({\n",
    "    'Hello',\n",
    "    'What type of clothing do you like to wear',\n",
    "    'I like to wear clothes that are in fashion', \n",
    "    'I would recommend to look at stores like shein or forever 21. Do you have a favorite place where you buy your trendy clothes from?',\n",
    "    'I like to get my clothes from Shein.', \n",
    "    'On the Shein website, they have a section labeled \"Trends\", I would recommend looking there to find the clothes that best fit the trends right now!'\n",
    "})\n",
    "\n",
    "# Conversation 10\n",
    "trainer.train({\n",
    "    'Hello',\n",
    "    'What type of clothing do you like to wear',\n",
    "    'I need to find clothes for very tall people', \n",
    "    'For clothing for tall people, I would look at stores like ASOS or Topshop. Is there a favorite place that you buy your clothes for a taller person?',\n",
    "    'I usually get my clothes from ASOS.', \n",
    "    'On the ASOS website, you are able to search for clothes specifically for tall people, so you are able to find the clothes that best fit your needs!'\n",
    "})\n"
   ]
  },
  {
   "cell_type": "code",
   "execution_count": 7,
   "id": "a3c45147",
   "metadata": {},
   "outputs": [
    {
     "data": {
      "text/plain": [
       "<Statement text:My favorite brand is American Eagle>"
      ]
     },
     "execution_count": 7,
     "metadata": {},
     "output_type": "execute_result"
    }
   ],
   "source": [
    "response = bot.get_response(\"I like to wear jeans\")\n",
    "response"
   ]
  },
  {
   "cell_type": "code",
   "execution_count": null,
   "id": "c1c83e79",
   "metadata": {},
   "outputs": [
    {
     "name": "stdout",
     "output_type": "stream",
     "text": [
      "Hello, I am the clothing selector helper and I am here to select what type of clothing that you need\n",
      "Hello \n",
      "I would recommend the straight leg, high rise jeans from American Eagle\n",
      "I mainly like to thrift my clothes \n",
      "I mainly thrift my clothes\n",
      "I mainly thrift my clothes \n",
      "I would recommend to look at smaller thrift shops in bigger cities, they may be bale to give you a different selection than what you currently have.\n",
      "Thank you! \n",
      "I need to find clothes for very tall people\n"
     ]
    }
   ],
   "source": [
    "print(\"Hello, I am the clothing selector helper and I am here to select what type of clothing that you need\")\n",
    "while True:\n",
    "    try: \n",
    "        bot_input = bot.get_response(input())\n",
    "        print(bot_input)\n",
    "    except(KeyboardInterrupt, EOFError, SystemExit):\n",
    "        break"
   ]
  },
  {
   "cell_type": "code",
   "execution_count": null,
   "id": "5968661f",
   "metadata": {},
   "outputs": [],
   "source": []
  }
 ],
 "metadata": {
  "kernelspec": {
   "display_name": "Python 3 (ipykernel)",
   "language": "python",
   "name": "python3"
  },
  "language_info": {
   "codemirror_mode": {
    "name": "ipython",
    "version": 3
   },
   "file_extension": ".py",
   "mimetype": "text/x-python",
   "name": "python",
   "nbconvert_exporter": "python",
   "pygments_lexer": "ipython3",
   "version": "3.7.4"
  }
 },
 "nbformat": 4,
 "nbformat_minor": 5
}
